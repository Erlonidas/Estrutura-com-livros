{
 "cells": [
  {
   "cell_type": "code",
   "execution_count": 1,
   "id": "59990a23-48d5-4105-9015-bc0f6f98d1b6",
   "metadata": {
    "tags": []
   },
   "outputs": [],
   "source": [
    "import biblioteca"
   ]
  },
  {
   "cell_type": "code",
   "execution_count": 9,
   "id": "02b76739-66d5-4c97-af8d-293a1cd44cfa",
   "metadata": {
    "tags": []
   },
   "outputs": [],
   "source": [
    "my_lib = {1:('Mais inteligente que o diabo','thiago nigro','auto-conhecimento'),\n",
    "               2:('Mais rico da babilonia','Napoleao Hill','Auto-conhecimento'),\n",
    "               3:('Pai rico, pai pobre','Robert Kiyosaki','Financeiro'),\n",
    "                4:('Biblia','Jesus Cristo','Espirito Santo'),\n",
    "         5:('Arte da Guerra','Sun Tzu','Guerra'),\n",
    "         6:('Capitalismo na América', 'Allan Grenspan', 'Economia e política')}"
   ]
  },
  {
   "cell_type": "code",
   "execution_count": 3,
   "id": "08af695c-b9e1-4ba7-b6c9-7aa0cb226ea1",
   "metadata": {
    "tags": []
   },
   "outputs": [
    {
     "name": "stdout",
     "output_type": "stream",
     "text": [
      "\n",
      "    ADICIONANDO NOVO LIVRO:\n",
      "    Forneça as seguintes informações do novo livro:\n",
      "    \n"
     ]
    },
    {
     "name": "stdin",
     "output_type": "stream",
     "text": [
      "ISBM  6\n",
      "Nome do livro  Capitalismo na América\n",
      "Autoria  Allan Grenspan\n",
      "Qual gênero pertence?  Economia e política\n"
     ]
    }
   ],
   "source": [
    "biblioteca.add_livro(my_lib)"
   ]
  },
  {
   "cell_type": "code",
   "execution_count": 6,
   "id": "8e7f9161-9b42-41fc-b352-a25245e09f07",
   "metadata": {
    "tags": []
   },
   "outputs": [
    {
     "name": "stdout",
     "output_type": "stream",
     "text": [
      "('Capitalismo na América', 'Allan Grenspan', 'Economia e política')\n"
     ]
    }
   ],
   "source": [
    "print(biblioteca.procurar_book(6,my_lib))"
   ]
  },
  {
   "cell_type": "code",
   "execution_count": 7,
   "id": "99502dc2-a120-4c69-b3ab-9c41c74e6c63",
   "metadata": {
    "tags": []
   },
   "outputs": [
    {
     "data": {
      "text/plain": [
       "[('Arte da Guerra', 'Sun Tzu', 'Guerra'),\n",
       " ('Biblia', 'Jesus Cristo', 'Espirito Santo'),\n",
       " ('Capitalismo na América', 'Allan Grenspan', 'Economia e política'),\n",
       " ('Mais inteligente que o diabo', 'thiago nigro', 'auto-conhecimento'),\n",
       " ('Mais rico da babilonia', 'Napoleao Hill', 'Auto-conhecimento'),\n",
       " ('Pai rico, pai pobre', 'Robert Kiyosaki', 'Financeiro')]"
      ]
     },
     "execution_count": 7,
     "metadata": {},
     "output_type": "execute_result"
    }
   ],
   "source": [
    "biblioteca.alinhar_titulo(my_lib)"
   ]
  },
  {
   "cell_type": "code",
   "execution_count": 8,
   "id": "c92c5f5e-61d4-4479-82e3-8f48f81e9a0a",
   "metadata": {
    "tags": []
   },
   "outputs": [
    {
     "data": {
      "text/plain": [
       "[('Mais inteligente que o diabo', 'thiago nigro', 'auto-conhecimento'),\n",
       " ('Mais rico da babilonia', 'Napoleao Hill', 'Auto-conhecimento'),\n",
       " ('Capitalismo na América', 'Allan Grenspan', 'Economia e política'),\n",
       " ('Biblia', 'Jesus Cristo', 'Espirito Santo'),\n",
       " ('Pai rico, pai pobre', 'Robert Kiyosaki', 'Financeiro'),\n",
       " ('Arte da Guerra', 'Sun Tzu', 'Guerra')]"
      ]
     },
     "execution_count": 8,
     "metadata": {},
     "output_type": "execute_result"
    }
   ],
   "source": [
    "biblioteca.alinhar_genero(my_lib)"
   ]
  },
  {
   "cell_type": "code",
   "execution_count": null,
   "id": "42f6b399-13d9-4adb-a366-b6c68fd96a68",
   "metadata": {},
   "outputs": [],
   "source": []
  }
 ],
 "metadata": {
  "kernelspec": {
   "display_name": "Python 3 (ipykernel)",
   "language": "python",
   "name": "python3"
  },
  "language_info": {
   "codemirror_mode": {
    "name": "ipython",
    "version": 3
   },
   "file_extension": ".py",
   "mimetype": "text/x-python",
   "name": "python",
   "nbconvert_exporter": "python",
   "pygments_lexer": "ipython3",
   "version": "3.11.3"
  }
 },
 "nbformat": 4,
 "nbformat_minor": 5
}
